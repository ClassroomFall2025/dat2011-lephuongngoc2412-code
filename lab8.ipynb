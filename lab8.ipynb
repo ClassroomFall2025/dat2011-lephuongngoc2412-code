{
 "cells": [
  {
   "cell_type": "markdown",
   "id": "fdeff819",
   "metadata": {},
   "source": [
    "# Sinh Viên thực hiện Lab 8 ở Đây"
   ]
  },
  {
   "cell_type": "markdown",
   "id": "acc5d7dc",
   "metadata": {},
   "source": [
    "## Lab 8 - Bài 1"
   ]
  },
  {
   "cell_type": "code",
   "execution_count": null,
   "id": "001e0507",
   "metadata": {},
   "outputs": [
    {
     "name": "stdout",
     "output_type": "stream",
     "text": [
      "['Lê', 'Phương', 'Ngọc']\n",
      "LÊ Phương NGỌC\n"
     ]
    }
   ],
   "source": [
    "# Code lab 8 bài 1 ở đây\n",
    "ho_ten = input(\"Nhập họ tên:\")\n",
    "list_ho_ten = [tu for tu in ho_ten.split()]\n",
    "print(list_ho_ten)\n",
    "ten_dem = \"\"\n",
    "for phan_tu in list_ho_ten[1:-1]:\n",
    "    ten_dem = ten_dem + phan_tu\n",
    "print(f'{list_ho_ten[0].upper()} {ten_dem} {list_ho_ten[-1].upper()}')"
   ]
  },
  {
   "cell_type": "markdown",
   "id": "c0835310",
   "metadata": {},
   "source": [
    "## Lab 8 - Bài 2"
   ]
  },
  {
   "cell_type": "code",
   "execution_count": null,
   "id": "fa9cb39f",
   "metadata": {},
   "outputs": [
    {
     "name": "stdout",
     "output_type": "stream",
     "text": [
      "Nhập email hợp lệ!\n",
      "nhập đúng phone\n",
      "Chưa đúng định dạng, nhập lại\n",
      "Chưa đúng định dạng, nhập lại\n",
      "Chưa đúng định dạng, nhập lại\n",
      "Chưa đúng định dạng, nhập lại\n",
      "Chưa đúng định dạng, nhập lại\n"
     ]
    }
   ],
   "source": [
    "# Code lab 8  bài 2 ở đây\n",
    "import re\n",
    "sinh_vien = {\n",
    "    \"Họ tên\": \"\",\n",
    "    \"Email\": \"\",\n",
    "    \"Phone\": \"\",\n",
    "    \"cccd\": \"\"\n",
    "}\n",
    "regex_email = r\"^[a-zA-Z0-9.-_]+@[a-zA-Z0-9.-]+\\.[a-zA-Z]{2,}$\"\n",
    "reg_phone = r\"^\\d[1-9]{1}[0-9]{8}$\"\n",
    "regex_cccd = r\"^\\d{3}[1-9]{1}[0-8]{1}[0-9]{1}\\d{2}[0-9]{2}[0-9]{6}$\"\n",
    "while True:\n",
    "    email = input(\"Nhập email:\")\n",
    "    if re.match(regex_email,email):\n",
    "        print(\"Nhập email hợp lệ!\")\n",
    "        break\n",
    "    else:\n",
    "        print(\"Email chưa đúng!\")\n",
    "while True:\n",
    "    so_dien_thoai = input(\"nhập số điện thoại:\")\n",
    "    if re.match(reg_phone,so_dien_thoai):\n",
    "        print(\"nhập đúng phone\")\n",
    "        break\n",
    "    else:\n",
    "        print(\"nhập chưa đúng\")\n",
    "while True:\n",
    "    cccd = input(\"Nhập cccd:\")\n",
    "    if re.match(regex_cccd,cccd):\n",
    "        print(\"Đúng định dạng cccd\")\n",
    "        break\n",
    "    else:\n",
    "        print(\"Chưa đúng định dạng, nhập lại\")"
   ]
  },
  {
   "cell_type": "markdown",
   "id": "0f2483fe",
   "metadata": {},
   "source": [
    "## Lab 8 - Bài 3"
   ]
  },
  {
   "cell_type": "code",
   "execution_count": 2,
   "id": "7034990b",
   "metadata": {},
   "outputs": [
    {
     "name": "stdout",
     "output_type": "stream",
     "text": [
      "Đã ghi xong!\n"
     ]
    }
   ],
   "source": [
    "# Code lab 8  bài 3 ở đây\n",
    "import random\n",
    "\n",
    "list_ngau_nhien = [random.randint(0, 100) for _ in range(1000000)]\n",
    "\n",
    "with open(\"numbers.txt\", \"w\", encoding=\"utf-8\") as f:\n",
    "    for i, so in enumerate(list_ngau_nhien):\n",
    "        if i > 0:\n",
    "            f.write(\",\")\n",
    "        f.write(str(so))\n",
    "\n",
    "print(\"Đã ghi xong!\")"
   ]
  },
  {
   "cell_type": "markdown",
   "id": "d36ea3d3",
   "metadata": {},
   "source": [
    "## Lab 8 - Bài 4"
   ]
  },
  {
   "cell_type": "code",
   "execution_count": 6,
   "id": "4c707ec1",
   "metadata": {},
   "outputs": [
    {
     "name": "stdout",
     "output_type": "stream",
     "text": [
      "Bắt đầu đọc và phân tích dữ liệu từ file 'random_numbers.txt'\n",
      "\n",
      "--------------------------------\n",
      "KẾT QUẢ PHÂN TÍCH DỮ LIỆU\n",
      "--------------------------------\n",
      "Tổng số lượng phần tử: 1,000,000\n",
      "Giá trị Trung bình (Mean): 49.9764\n",
      "Độ lệch chuẩn (Standard Deviation): 29.1522\n",
      "Thời gian phân tích: 0.5880 giây\n"
     ]
    }
   ],
   "source": [
    "# code lab 8 bài 4 ở đây\n",
    "import statistics\n",
    "import time\n",
    "\n",
    "def analyze_random_numbers(filename=\"random_numbers.txt\"):\n",
    "    \n",
    "    print(f\"Bắt đầu đọc và phân tích dữ liệu từ file '{filename}'\")\n",
    "    start_time = time.time()\n",
    "    \n",
    "    # 1. Đọc dữ liệu từ file\n",
    "    try:\n",
    "        with open(filename, 'r') as f:\n",
    "            data_string = f.read()\n",
    "            \n",
    "    except FileNotFoundError:\n",
    "        print(f\"LỖI: Không tìm thấy file '{filename}'. Vui lòng đảm bảo bạn đã chạy Bài 3.\")\n",
    "        return\n",
    "    except Exception as e:\n",
    "        print(f\"LỖI xảy ra khi đọc file: {e}\")\n",
    "        return\n",
    "\n",
    "    # 2. Xử lý dữ liệu\n",
    "    numbers_as_strings = data_string.split()\n",
    "    if not numbers_as_strings:\n",
    "        print(\"LỖI: File không chứa dữ liệu số nào.\")\n",
    "        return\n",
    "\n",
    "    # Chuyển danh sách chuỗi số thành danh sách số nguyên (int)\n",
    "    # Sử dụng map() và list() để thực hiện chuyển đổi nhanh chóng cho 1 triệu số.\n",
    "    try:\n",
    "        data = list(map(int, numbers_as_strings))\n",
    "    except ValueError:\n",
    "        print(\"LỖI: File chứa ký tự không phải là số. Không thể phân tích.\")\n",
    "        return\n",
    "    \n",
    "    # 3. Tính toán bằng thư viện statistics\n",
    "    mean_value = statistics.mean(data)\n",
    "    std_dev_value = statistics.stdev(data)\n",
    "    \n",
    "    end_time = time.time()\n",
    "    \n",
    "    print(\"\\n--------------------------------\")\n",
    "    print(\"KẾT QUẢ PHÂN TÍCH DỮ LIỆU\")\n",
    "    print(\"--------------------------------\")\n",
    "    print(f\"Tổng số lượng phần tử: {len(data):,}\")\n",
    "    print(f\"Giá trị Trung bình (Mean): {mean_value:.4f}\")\n",
    "    print(f\"Độ lệch chuẩn (Standard Deviation): {std_dev_value:.4f}\")\n",
    "    print(f\"Thời gian phân tích: {end_time - start_time:.4f} giây\")\n",
    "analyze_random_numbers()"
   ]
  },
  {
   "cell_type": "markdown",
   "id": "e2b41d4a",
   "metadata": {},
   "source": [
    "## Lab 8 - Bài 5: bài tập làm thêm"
   ]
  },
  {
   "cell_type": "code",
   "execution_count": null,
   "id": "0e0172f7",
   "metadata": {},
   "outputs": [],
   "source": [
    "# code lab 8  bài làm thêm ở đây "
   ]
  }
 ],
 "metadata": {
  "kernelspec": {
   "display_name": "Python 3",
   "language": "python",
   "name": "python3"
  },
  "language_info": {
   "codemirror_mode": {
    "name": "ipython",
    "version": 3
   },
   "file_extension": ".py",
   "mimetype": "text/x-python",
   "name": "python",
   "nbconvert_exporter": "python",
   "pygments_lexer": "ipython3",
   "version": "3.13.7"
  }
 },
 "nbformat": 4,
 "nbformat_minor": 5
}
