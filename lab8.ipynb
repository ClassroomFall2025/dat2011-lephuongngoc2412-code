{
 "cells": [
  {
   "cell_type": "markdown",
   "id": "fdeff819",
   "metadata": {},
   "source": [
    "# Sinh Viên thực hiện Lab 8 ở Đây"
   ]
  },
  {
   "cell_type": "markdown",
   "id": "acc5d7dc",
   "metadata": {},
   "source": [
    "## Lab 8 - Bài 1"
   ]
  },
  {
   "cell_type": "code",
   "execution_count": 1,
   "id": "001e0507",
   "metadata": {},
   "outputs": [
    {
     "name": "stdout",
     "output_type": "stream",
     "text": [
      "\n",
      "--- Kết quả đã xử lý ---\n",
      "Họ: LÊ\n",
      "Tên đệm: Phương\n",
      "Tên: NGỌC\n"
     ]
    }
   ],
   "source": [
    "# Code lab 8 bài 1 ở đây\n",
    "def Nhap_ten_va_xuat():\n",
    "    Ho_va_ten = input(\"Nhập họ và tên đầy đủ của bạn: \")\n",
    "    Cac_thanh_phan = Ho_va_ten.split()\n",
    "\n",
    "    if not Cac_thanh_phan:\n",
    "        print(\"Lỗi: Bạn chưa nhập bất kỳ tên nào.\")\n",
    "        return\n",
    "    \n",
    "    Ho = Cac_thanh_phan[0]\n",
    "    Ten = Cac_thanh_phan[-1]\n",
    "    Ten_dem = Cac_thanh_phan[1:-1]\n",
    "    \n",
    "    Ho_upper = Ho.upper()\n",
    "    Ten_upper = Ten.upper()\n",
    "    middle_names_str = ' '.join(Ten_dem)\n",
    "\n",
    "    print(\"\\n--- Kết quả đã xử lý ---\")\n",
    "    print(f\"Họ: {Ho_upper}\")\n",
    "    print(f\"Tên đệm: {middle_names_str}\")\n",
    "    print(f\"Tên: {Ten_upper}\")\n",
    "Nhap_ten_va_xuat()"
   ]
  },
  {
   "cell_type": "markdown",
   "id": "c0835310",
   "metadata": {},
   "source": [
    "## Lab 8 - Bài 2"
   ]
  },
  {
   "cell_type": "code",
   "execution_count": 3,
   "id": "fa9cb39f",
   "metadata": {},
   "outputs": [
    {
     "name": "stdout",
     "output_type": "stream",
     "text": [
      "ĐÃ HOÀN TẤT NHẬP DỮ LIỆU SINH VIÊN\n",
      "----------------------------------\n",
      "Họ và Tên: Nguyễn Thị Lan Anh\n",
      "Email: lananh07@gmail.com\n",
      "Số điện thoại: 0923456789\n",
      "CMND/CCCD: 090015157378\n"
     ]
    }
   ],
   "source": [
    "# Code lab 8  bài 2 ở đây\n",
    "import re\n",
    "\n",
    "def input_and_validate_student():\n",
    "    student_info = {}\n",
    "    student_info['Họ và Tên'] = input(\"1. Nhập Họ và Tên sinh viên: \").strip()\n",
    "\n",
    "    email_regex = r'^[a-zA-Z0-9._%+-]+@[a-zA-Z0-9.-]+\\.[a-zA-Z]{2,}$'\n",
    "    while True:\n",
    "        email = input(\"2. Nhập Email (ví dụ: a@b.com): \").strip()\n",
    "        if re.fullmatch(email_regex, email):\n",
    "            student_info['Email'] = email\n",
    "            break\n",
    "        else:\n",
    "            print(\"LỖI: Định dạng Email không hợp lệ. Vui lòng nhập lại.\")\n",
    "    phone_regex = r'^0\\d{9}$' \n",
    "    while True:\n",
    "        phone = input(\"3. Nhập Số điện thoại: \").strip()\n",
    "        if re.fullmatch(phone_regex, phone):\n",
    "            student_info['Số điện thoại'] = phone\n",
    "            break\n",
    "        else:\n",
    "            print(\" LỖI: Định dạng Số điện thoại không hợp lệ (cần 10 chữ số, bắt đầu bằng 0). Vui lòng nhập lại.\")\n",
    "    id_regex = r'^(\\d{9}|\\d{12})$'\n",
    "    while True:\n",
    "        identity_card = input(\"4. Nhập CMND/CCCD: \").strip()\n",
    "        if re.fullmatch(id_regex, identity_card):\n",
    "            student_info['CMND/CCCD'] = identity_card\n",
    "            break\n",
    "        else:\n",
    "            print(\"LỖI: CMND/CCCD không hợp lệ (cần 9 hoặc 12 chữ số). Vui lòng nhập lại.\")\n",
    "\n",
    "    print(\"ĐÃ HOÀN TẤT NHẬP DỮ LIỆU SINH VIÊN\")\n",
    "    print(\"----------------------------------\")\n",
    "    for key, value in student_info.items():\n",
    "        print(f\"{key}: {value}\")\n",
    "input_and_validate_student()"
   ]
  },
  {
   "cell_type": "markdown",
   "id": "0f2483fe",
   "metadata": {},
   "source": [
    "## Lab 8 - Bài 3"
   ]
  },
  {
   "cell_type": "code",
   "execution_count": null,
   "id": "7034990b",
   "metadata": {},
   "outputs": [
    {
     "name": "stdout",
     "output_type": "stream",
     "text": [
      "Bắt đầu tạo 1000000 số ngẫu nhiên...\n",
      "  Đã hoàn thành 100000 số...\n",
      "  Đã hoàn thành 200000 số...\n",
      "  Đã hoàn thành 300000 số...\n",
      "  Đã hoàn thành 400000 số...\n",
      "  Đã hoàn thành 500000 số...\n",
      "  Đã hoàn thành 600000 số...\n",
      "  Đã hoàn thành 700000 số...\n",
      "  Đã hoàn thành 800000 số...\n",
      "  Đã hoàn thành 900000 số...\n",
      "  Đã hoàn thành 1000000 số...\n",
      "\n",
      "---------------------------------\n",
      "HOÀN THÀNH!\n",
      "Đã tạo và ghi 1000000 số ngẫu nhiên vào file 'random_numbers.txt'\n",
      "Tổng thời gian xử lý: 0.83 giây\n",
      "-----------------------------------\n"
     ]
    }
   ],
   "source": [
    "# Code lab 8  bài 3 ở đây\n",
    "import random\n",
    "import time\n",
    "\n",
    "def generate_and_save_random_numbers(count=1000000, min_val=0, max_val=100, filename=\"random_numbers.txt\"):\n",
    "    \n",
    "    start_time = time.time()   \n",
    "    print(f\"Bắt đầu tạo {count} số ngẫu nhiên\")\n",
    "    try:\n",
    "        with open(filename, 'w') as f:\n",
    "            for i in range(count):\n",
    "                number = random.randint(min_val, max_val)\n",
    "                f.write(str(number) + \" \")\n",
    "            \n",
    "                if (i + 1) % 100000 == 0:\n",
    "                    print(f\"  Đã hoàn thành {i + 1} số...\")\n",
    "\n",
    "        end_time = time.time()\n",
    "        print(\"\\n---------------------------------\")\n",
    "        print(\"HOÀN THÀNH!\")\n",
    "        print(f\"Đã tạo và ghi {count} số ngẫu nhiên vào file '{filename}'\")\n",
    "        print(f\"Tổng thời gian xử lý: {end_time - start_time:.2f} giây\")\n",
    "        print(\"-----------------------------------\")\n",
    "        \n",
    "    except IOError:\n",
    "        print(f\"Lỗi: Không thể ghi file '{filename}'. Vui lòng kiểm tra quyền truy cập.\")\n",
    "        \n",
    "generate_and_save_random_numbers()"
   ]
  },
  {
   "cell_type": "markdown",
   "id": "d36ea3d3",
   "metadata": {},
   "source": [
    "## Lab 8 - Bài 4"
   ]
  },
  {
   "cell_type": "code",
   "execution_count": 6,
   "id": "4c707ec1",
   "metadata": {},
   "outputs": [
    {
     "name": "stdout",
     "output_type": "stream",
     "text": [
      "Bắt đầu đọc và phân tích dữ liệu từ file 'random_numbers.txt'\n",
      "\n",
      "--------------------------------\n",
      "KẾT QUẢ PHÂN TÍCH DỮ LIỆU\n",
      "--------------------------------\n",
      "Tổng số lượng phần tử: 1,000,000\n",
      "Giá trị Trung bình (Mean): 49.9764\n",
      "Độ lệch chuẩn (Standard Deviation): 29.1522\n",
      "Thời gian phân tích: 0.5880 giây\n"
     ]
    }
   ],
   "source": [
    "# code lab 8 bài 4 ở đây\n",
    "import statistics\n",
    "import time\n",
    "\n",
    "def analyze_random_numbers(filename=\"random_numbers.txt\"):\n",
    "    \n",
    "    print(f\"Bắt đầu đọc và phân tích dữ liệu từ file '{filename}'\")\n",
    "    start_time = time.time()\n",
    "    \n",
    "    # 1. Đọc dữ liệu từ file\n",
    "    try:\n",
    "        with open(filename, 'r') as f:\n",
    "            data_string = f.read()\n",
    "            \n",
    "    except FileNotFoundError:\n",
    "        print(f\"LỖI: Không tìm thấy file '{filename}'. Vui lòng đảm bảo bạn đã chạy Bài 3.\")\n",
    "        return\n",
    "    except Exception as e:\n",
    "        print(f\"LỖI xảy ra khi đọc file: {e}\")\n",
    "        return\n",
    "\n",
    "    # 2. Xử lý dữ liệu\n",
    "    numbers_as_strings = data_string.split()\n",
    "    if not numbers_as_strings:\n",
    "        print(\"LỖI: File không chứa dữ liệu số nào.\")\n",
    "        return\n",
    "\n",
    "    # Chuyển danh sách chuỗi số thành danh sách số nguyên (int)\n",
    "    # Sử dụng map() và list() để thực hiện chuyển đổi nhanh chóng cho 1 triệu số.\n",
    "    try:\n",
    "        data = list(map(int, numbers_as_strings))\n",
    "    except ValueError:\n",
    "        print(\"LỖI: File chứa ký tự không phải là số. Không thể phân tích.\")\n",
    "        return\n",
    "    \n",
    "    # 3. Tính toán bằng thư viện statistics\n",
    "    mean_value = statistics.mean(data)\n",
    "    std_dev_value = statistics.stdev(data)\n",
    "    \n",
    "    end_time = time.time()\n",
    "    \n",
    "    print(\"\\n--------------------------------\")\n",
    "    print(\"KẾT QUẢ PHÂN TÍCH DỮ LIỆU\")\n",
    "    print(\"--------------------------------\")\n",
    "    print(f\"Tổng số lượng phần tử: {len(data):,}\")\n",
    "    print(f\"Giá trị Trung bình (Mean): {mean_value:.4f}\")\n",
    "    print(f\"Độ lệch chuẩn (Standard Deviation): {std_dev_value:.4f}\")\n",
    "    print(f\"Thời gian phân tích: {end_time - start_time:.4f} giây\")\n",
    "analyze_random_numbers()"
   ]
  },
  {
   "cell_type": "markdown",
   "id": "e2b41d4a",
   "metadata": {},
   "source": [
    "## Lab 8 - Bài 5: bài tập làm thêm"
   ]
  },
  {
   "cell_type": "code",
   "execution_count": null,
   "id": "0e0172f7",
   "metadata": {},
   "outputs": [],
   "source": [
    "# code lab 8  bài làm thêm ở đây "
   ]
  }
 ],
 "metadata": {
  "kernelspec": {
   "display_name": "Python 3",
   "language": "python",
   "name": "python3"
  },
  "language_info": {
   "codemirror_mode": {
    "name": "ipython",
    "version": 3
   },
   "file_extension": ".py",
   "mimetype": "text/x-python",
   "name": "python",
   "nbconvert_exporter": "python",
   "pygments_lexer": "ipython3",
   "version": "3.13.7"
  }
 },
 "nbformat": 4,
 "nbformat_minor": 5
}
