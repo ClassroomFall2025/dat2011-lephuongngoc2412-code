{
 "cells": [
  {
   "cell_type": "markdown",
   "id": "fdeff819",
   "metadata": {},
   "source": [
    "# Sinh Viên thực hiện Lab 5 ở Đây"
   ]
  },
  {
   "cell_type": "markdown",
   "id": "acc5d7dc",
   "metadata": {},
   "source": [
    "## Lab 5 - Bài 1"
   ]
  },
  {
   "cell_type": "code",
   "execution_count": 15,
   "id": "001e0507",
   "metadata": {},
   "outputs": [],
   "source": [
    "# Code lab 5 bài 1 ở đây\n",
    "class SanPham:\n",
    "    def __init__(self):\n",
    "        self.ten_san_pham = \"\"\n",
    "        self.gia = \"\"\n",
    "        self.giam_gia = \"\"\n",
    "    def thue_nhap_khau(self):\n",
    "        return self.gia * 0.1\n",
    "    def nhap_sp(self):\n",
    "        self.ten_san_pham = input(\"Tên sản phẩm:\")\n",
    "        self.gia = float(input(\"Giá:\"))\n",
    "        self.giam_gia = float(input(\"Giảm giá:\"))\n",
    "    def xuat_thong_tin_sp(self):\n",
    "        print(f\"Sản phẩm {self.ten_san_pham} có giá {self.gia} đồng và được giảm giá {self.giam_gia} đồng\")"
   ]
  },
  {
   "cell_type": "markdown",
   "id": "c0835310",
   "metadata": {},
   "source": [
    "## Lab 5 - Bài 2"
   ]
  },
  {
   "cell_type": "code",
   "execution_count": 1,
   "id": "fa9cb39f",
   "metadata": {},
   "outputs": [
    {
     "name": "stdout",
     "output_type": "stream",
     "text": [
      "Sản phẩm Sách có giá 40000.0 và được giảm giá 10000.0\n",
      "Sản phẩm Bút bi có giá 12000.0 và được giảm giá 6000.0\n"
     ]
    }
   ],
   "source": [
    "# Code lab 5  bài 2 ở đây\n",
    "from sp import *\n",
    "sanpham_1 = SanPham()\n",
    "sanpham_2 = SanPham()\n",
    "\n",
    "sanpham_1.nhap_sp()\n",
    "sanpham_1.xuat_thong_tin_sp()\n",
    "\n",
    "sanpham_2.nhap_sp()\n",
    "sanpham_2.xuat_thong_tin_sp()\n"
   ]
  },
  {
   "cell_type": "markdown",
   "id": "0f2483fe",
   "metadata": {},
   "source": [
    "## Lab 5 - Bài 3"
   ]
  },
  {
   "cell_type": "code",
   "execution_count": 6,
   "id": "7034990b",
   "metadata": {},
   "outputs": [
    {
     "name": "stdout",
     "output_type": "stream",
     "text": [
      "Tên sản phẩm: Sách\n",
      "Giá sản phẩm: 40000.0\n",
      "Giá giảm: 10000.0\n",
      "-------------------------------\n",
      "Tên mới: Vở\n",
      "Giá mới: 15000\n",
      "Giá giảm mới: 5000\n"
     ]
    }
   ],
   "source": [
    "# Code lab 5  bài 3 ở đây\n",
    "class SanPham:\n",
    "    def __init__(self):\n",
    "        self.__ten_san_pham = \"\"\n",
    "        self.__gia = \"\"\n",
    "        self.__giam_gia = \"\"\n",
    "    def thue_nhap_khau(self):\n",
    "        return self.gia * 0.1\n",
    "    def nhap_sp(self):\n",
    "        self.__ten_san_pham = input(\"Tên sản phẩm:\")\n",
    "        self.__gia = float(input(\"Giá:\"))\n",
    "        self.__giam_gia = float(input(\"Giảm giá:\"))\n",
    "    def xuat_thong_tin_sp(self):\n",
    "        print(f\"Sản phẩm {self.__ten_san_pham} có giá {self.__gia} và được giảm giá {self.__giam_gia}\")\n",
    "\n",
    "    def getter_tensp(self):\n",
    "        return self.__ten_san_pham\n",
    "    def setter_tensp(self, ten_moi):\n",
    "        self.__ten_san_pham = ten_moi\n",
    "\n",
    "    def getter_gia(self):\n",
    "        return self.__gia\n",
    "    def setter_gia(self, gia_moi):\n",
    "        self.__gia = gia_moi\n",
    "\n",
    "    def getter_gia_giam(self):\n",
    "        return self.__giam_gia\n",
    "    def setter_gia_giam(self, gia_giam_moi):\n",
    "        self.__giam_gia = gia_giam_moi\n",
    "\n",
    "sanpham = SanPham()\n",
    "sanpham.nhap_sp()\n",
    "print(f\"Tên sản phẩm: {sanpham.getter_tensp()}\")\n",
    "print(f\"Giá sản phẩm: {sanpham.getter_gia()}\")\n",
    "print(f\"Giá giảm: {sanpham.getter_gia_giam()}\")\n",
    "print(\"-------------------------------\")\n",
    "sanpham.setter_tensp(\"Vở\")\n",
    "sanpham.setter_gia(15000)\n",
    "sanpham.setter_gia_giam(5000)\n",
    "print(f\"Tên mới: {sanpham.getter_tensp()}\")\n",
    "print(f\"Giá mới: {sanpham.getter_gia()}\")\n",
    "print(f\"Giá giảm mới: {sanpham.getter_gia_giam()}\")\n",
    "\n",
    "\n",
    "\n"
   ]
  },
  {
   "cell_type": "markdown",
   "id": "d36ea3d3",
   "metadata": {},
   "source": [
    "## Lab 5 - Bài 4"
   ]
  },
  {
   "cell_type": "code",
   "execution_count": 13,
   "id": "4c707ec1",
   "metadata": {},
   "outputs": [
    {
     "name": "stdout",
     "output_type": "stream",
     "text": [
      "Sản phẩm Bút có giá 12000 đồng và được giảm giá 5000 đồng\n",
      "Sản phẩm Vở có giá 15000 đồng và được giảm giá 3000 đồng\n"
     ]
    }
   ],
   "source": [
    "# code lab 5 bài 4 ở đây\n",
    "class SanPham:\n",
    "    def __init__(self, ten_san_pham, gia, giam_gia):\n",
    "        self.__ten_san_pham = ten_san_pham\n",
    "        self.__gia = gia\n",
    "        self.__giam_gia = giam_gia\n",
    "    def thue_nhap_khau(self):\n",
    "        return self.gia * 0.1\n",
    "    def nhap_sp(self):\n",
    "        self.__ten_san_pham = input(\"Tên sản phẩm:\")\n",
    "        self.__gia = float(input(\"Giá:\"))\n",
    "        self.__giam_gia = float(input(\"Giảm giá:\"))\n",
    "    def xuat_thong_tin_sp(self):\n",
    "        return(f\"Sản phẩm {self.__ten_san_pham} có giá {self.__gia} đồng và được giảm giá {self.__giam_gia} đồng\")\n",
    "\n",
    "    def getter_tensp(self):\n",
    "        return self.__ten_san_pham\n",
    "    def setter_tensp(self, ten_moi):\n",
    "        self.__ten_san_pham = ten_moi\n",
    "\n",
    "    def getter_gia(self):\n",
    "        return self.__gia\n",
    "    def setter_gia(self,gia_moi):\n",
    "        self.__gia = gia_moi\n",
    "\n",
    "    def getter_gia_giam(self):\n",
    "        return self.__giam_gia\n",
    "    def setter_gia_giam(self, gia_giam_moi):\n",
    "        self.__giam_gia = gia_giam_moi\n",
    "\n",
    "sanpham_1 = SanPham(\"Bút\", 12000, 5000)\n",
    "sanpham_2 = SanPham(\"Vở\", 15000, 3000)\n",
    "print(sanpham_1.xuat_thong_tin_sp())\n",
    "print(sanpham_2.xuat_thong_tin_sp())"
   ]
  },
  {
   "cell_type": "markdown",
   "id": "e2b41d4a",
   "metadata": {},
   "source": [
    "## Lab 5 - Bài 5: bài tập làm thêm"
   ]
  },
  {
   "cell_type": "code",
   "execution_count": null,
   "id": "0e0172f7",
   "metadata": {},
   "outputs": [
    {
     "name": "stdout",
     "output_type": "stream",
     "text": [
      " \n",
      "0. Thoát chương trình\n",
      "1. Các phép tính cơ bản\n",
      "2. Lũy thừa\n",
      "3. Căn bậc 2\n",
      "4. Hàm lượng giác\n",
      "5. Logarit\n",
      "6. Giải phương trình bậc 1\n",
      "7. Giải phương trình bậc 2\n",
      "\n",
      "Thương của hai số 1.0\n",
      "Tổng của hai số: 4.0\n",
      "Hiệu của hai số: 0.0\n",
      "Tích của hai số: 4.0\n",
      " \n",
      "0. Thoát chương trình\n",
      "1. Các phép tính cơ bản\n",
      "2. Lũy thừa\n",
      "3. Căn bậc 2\n",
      "4. Hàm lượng giác\n",
      "5. Logarit\n",
      "6. Giải phương trình bậc 1\n",
      "7. Giải phương trình bậc 2\n",
      "\n",
      "0. Thoát chương trình\n"
     ]
    },
    {
     "ename": "TypeError",
     "evalue": "'module' object is not callable",
     "output_type": "error",
     "traceback": [
      "\u001b[31m---------------------------------------------------------------------------\u001b[39m",
      "\u001b[31mTypeError\u001b[39m                                 Traceback (most recent call last)",
      "\u001b[36mCell\u001b[39m\u001b[36m \u001b[39m\u001b[32mIn[1]\u001b[39m\u001b[32m, line 5\u001b[39m\n\u001b[32m      1\u001b[39m \u001b[38;5;66;03m# code lab 5  bài làm thêm ở đây \u001b[39;00m\n\u001b[32m      2\u001b[39m \u001b[38;5;28;01mimport\u001b[39;00m\u001b[38;5;250m \u001b[39m\u001b[34;01mmenu\u001b[39;00m\n\u001b[32m----> \u001b[39m\u001b[32m5\u001b[39m \u001b[43mmenu\u001b[49m\u001b[43m(\u001b[49m\u001b[43m)\u001b[49m\n",
      "\u001b[31mTypeError\u001b[39m: 'module' object is not callable"
     ]
    }
   ],
   "source": [
    "# code lab 5  bài làm thêm ở đây \n",
    "import menu\n",
    "menu()"
   ]
  }
 ],
 "metadata": {
  "kernelspec": {
   "display_name": "Python 3",
   "language": "python",
   "name": "python3"
  },
  "language_info": {
   "codemirror_mode": {
    "name": "ipython",
    "version": 3
   },
   "file_extension": ".py",
   "mimetype": "text/x-python",
   "name": "python",
   "nbconvert_exporter": "python",
   "pygments_lexer": "ipython3",
   "version": "3.13.7"
  }
 },
 "nbformat": 4,
 "nbformat_minor": 5
}
