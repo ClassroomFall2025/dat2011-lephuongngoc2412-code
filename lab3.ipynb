{
 "cells": [
  {
   "cell_type": "markdown",
   "id": "fdeff819",
   "metadata": {},
   "source": [
    "# Sinh Viên thực hiện Lab 3 ở Đây"
   ]
  },
  {
   "cell_type": "markdown",
   "id": "acc5d7dc",
   "metadata": {},
   "source": [
    "## Lab 3 - Bài 1"
   ]
  },
  {
   "cell_type": "code",
   "execution_count": null,
   "id": "001e0507",
   "metadata": {},
   "outputs": [
    {
     "name": "stdout",
     "output_type": "stream",
     "text": [
      "Dãy số theo thứ tự tăng dần: [1, 3, 5, 7, 12, 24, 40, 52, 66, 83]\n",
      "Phần tử nhỏ nhất: 1\n",
      "Trung bình cộng các phần tử chia hết cho 3: 26.25\n"
     ]
    }
   ],
   "source": [
    "# Code lab 3 bài 1 ở đây\n",
    "day_so = [7,24,66,12,3,52,40,1,83,5]\n",
    "# Sắp xếp theo thứ tự tăng dần và xuất dãy số nguyên ra màn hình.\n",
    "day_so.sort()\n",
    "print(\"Dãy số theo thứ tự tăng dần:\", day_so)\n",
    "# Xuất ra phần tử nhỏ nhất\n",
    "print(\"Phần tử nhỏ nhất:\", day_so[0])\n",
    "# Tính và xuất ra màn hình trung bình cộng các phần tử chia hết cho 3\n",
    "tong = 0\n",
    "dem = 0\n",
    "for n in day_so:\n",
    "    if n % 3 == 0:\n",
    "        tong += n\n",
    "        dem += 1\n",
    "\n",
    "if dem > 0:\n",
    "    trung_binh_cong = tong / dem\n",
    "    print(\"Trung bình cộng các phần tử chia hết cho 3:\", trung_binh_cong)\n",
    "else:\n",
    "    print(\"Không có phần tử nào chia hết cho 3.\")"
   ]
  },
  {
   "cell_type": "markdown",
   "id": "c0835310",
   "metadata": {},
   "source": [
    "## Lab 3 - Bài 2"
   ]
  },
  {
   "cell_type": "code",
   "execution_count": null,
   "id": "fa9cb39f",
   "metadata": {},
   "outputs": [
    {
     "name": "stdout",
     "output_type": "stream",
     "text": [
      "Thông tin sinh viên:\n",
      "Họ và tên: Lê Phương Ngọc\n",
      "Điểm: 8.0\n",
      "Xếp loại: Giỏi\n"
     ]
    }
   ],
   "source": [
    "# Code lab 3  bài 2 ở đây\n",
    "# Xuất dữ liệu đã nhập, bổ sung thêm thông tin về xếp loại\n",
    "sinh_vien = {\"Ho ten\": input(\"Nhập họ và tên sinh viên:\"),\n",
    "             \"Diem\": float(input(\"Nhập điểm:\"))}\n",
    "diem = sinh_vien[\"Diem\"]\n",
    "if diem < 5:\n",
    "    xep_loai = \"Yếu\"\n",
    "elif 5 <= diem < 7:\n",
    "    xep_loai = \"Trung bình\"\n",
    "elif 7 <= diem < 8:\n",
    "    xep_loai = \"Khá\"\n",
    "elif 8 <= diem < 9:\n",
    "    xep_loai = \"Giỏi\"\n",
    "else:\n",
    "    xep_loai = \"Xuất sắc\"\n",
    "sinh_vien[\"Xep loai\"] = xep_loai\n",
    "print(\"Thông tin sinh viên:\")\n",
    "print(\"Họ và tên:\", sinh_vien[\"Ho ten\"])\n",
    "print(\"Điểm:\", sinh_vien[\"Diem\"])\n",
    "print(\"Xếp loại:\", sinh_vien[\"Xep loai\"])\n",
    "\n"
   ]
  },
  {
   "cell_type": "markdown",
   "id": "0f2483fe",
   "metadata": {},
   "source": [
    "## Lab 3 - Bài 3"
   ]
  },
  {
   "cell_type": "code",
   "execution_count": 5,
   "id": "7034990b",
   "metadata": {},
   "outputs": [
    {
     "name": "stdout",
     "output_type": "stream",
     "text": [
      "-1 không phải là số nguyên tố\n"
     ]
    }
   ],
   "source": [
    "# Code lab 3  bài 3 ở đây\n",
    "n = int(input(\"Nhập một số nguyên: \"))\n",
    "# Giả sử ban đầu n là số nguyên tố\n",
    "ok = True\n",
    "\n",
    "if n < 2:\n",
    "    ok = False\n",
    "else:\n",
    "    i = 2\n",
    "    while i < (n-1):\n",
    "        if n % i == 0:\n",
    "            ok = False\n",
    "            break\n",
    "        i += 1\n",
    "\n",
    "# Xuất kết quả\n",
    "if ok == True:\n",
    "    print(n, \"là số nguyên tố\")\n",
    "else:\n",
    "    print(n, \"không phải là số nguyên tố\")\n"
   ]
  },
  {
   "cell_type": "markdown",
   "id": "d36ea3d3",
   "metadata": {},
   "source": [
    "## Lab 3 - Bài 4"
   ]
  },
  {
   "cell_type": "code",
   "execution_count": 5,
   "id": "4c707ec1",
   "metadata": {},
   "outputs": [
    {
     "name": "stdout",
     "output_type": "stream",
     "text": [
      "Bảng cửu chương\n",
      "1 x 1 = 1\t2 x 1 = 2\t3 x 1 = 3\t4 x 1 = 4\t5 x 1 = 5\t6 x 1 = 6\t7 x 1 = 7\t8 x 1 = 8\t9 x 1 = 9\t\n",
      "1 x 2 = 2\t2 x 2 = 4\t3 x 2 = 6\t4 x 2 = 8\t5 x 2 = 10\t6 x 2 = 12\t7 x 2 = 14\t8 x 2 = 16\t9 x 2 = 18\t\n",
      "1 x 3 = 3\t2 x 3 = 6\t3 x 3 = 9\t4 x 3 = 12\t5 x 3 = 15\t6 x 3 = 18\t7 x 3 = 21\t8 x 3 = 24\t9 x 3 = 27\t\n",
      "1 x 4 = 4\t2 x 4 = 8\t3 x 4 = 12\t4 x 4 = 16\t5 x 4 = 20\t6 x 4 = 24\t7 x 4 = 28\t8 x 4 = 32\t9 x 4 = 36\t\n",
      "1 x 5 = 5\t2 x 5 = 10\t3 x 5 = 15\t4 x 5 = 20\t5 x 5 = 25\t6 x 5 = 30\t7 x 5 = 35\t8 x 5 = 40\t9 x 5 = 45\t\n",
      "1 x 6 = 6\t2 x 6 = 12\t3 x 6 = 18\t4 x 6 = 24\t5 x 6 = 30\t6 x 6 = 36\t7 x 6 = 42\t8 x 6 = 48\t9 x 6 = 54\t\n",
      "1 x 7 = 7\t2 x 7 = 14\t3 x 7 = 21\t4 x 7 = 28\t5 x 7 = 35\t6 x 7 = 42\t7 x 7 = 49\t8 x 7 = 56\t9 x 7 = 63\t\n",
      "1 x 8 = 8\t2 x 8 = 16\t3 x 8 = 24\t4 x 8 = 32\t5 x 8 = 40\t6 x 8 = 48\t7 x 8 = 56\t8 x 8 = 64\t9 x 8 = 72\t\n",
      "1 x 9 = 9\t2 x 9 = 18\t3 x 9 = 27\t4 x 9 = 36\t5 x 9 = 45\t6 x 9 = 54\t7 x 9 = 63\t8 x 9 = 72\t9 x 9 = 81\t\n"
     ]
    }
   ],
   "source": [
    "# code lab 3 bài 4 ở đây\n",
    "print(\"Bảng cửu chương\")\n",
    "for i in range(1, 10):              \n",
    "    for j in range(1, 10):          \n",
    "        print(f\"{j} x {i} = {j * i}\",end=\"\\t\")\n",
    "    print()  \n"
   ]
  },
  {
   "cell_type": "markdown",
   "id": "e2b41d4a",
   "metadata": {},
   "source": [
    "## Lab 3 - Bài 5: bài tập làm thêm"
   ]
  },
  {
   "cell_type": "code",
   "execution_count": 3,
   "id": "0e0172f7",
   "metadata": {},
   "outputs": [
    {
     "name": "stdout",
     "output_type": "stream",
     "text": [
      " \n",
      "0. Thoát chương trình\n",
      "1. Các phép tính cơ bản\n",
      "2. Lũy thừa\n",
      "3. Căn bậc 2\n",
      "4. Hàm lượng giác\n",
      "5. Logarit\n",
      "6. Giải phương trình bậc 1\n",
      "7. Giải phương trình bậc 2\n",
      "\n",
      "Phương trình có 2 nghiệm phân biệt:\n",
      "x1 = 0.0\n",
      "x2 = -0.75\n",
      " \n",
      "0. Thoát chương trình\n",
      "1. Các phép tính cơ bản\n",
      "2. Lũy thừa\n",
      "3. Căn bậc 2\n",
      "4. Hàm lượng giác\n",
      "5. Logarit\n",
      "6. Giải phương trình bậc 1\n",
      "7. Giải phương trình bậc 2\n",
      "\n",
      "0. Thoát chương trình\n"
     ]
    }
   ],
   "source": [
    "# code lab 3  bài làm thêm ở đây \n",
    "menu  = ''' \n",
    "0. Thoát chương trình\n",
    "1. Các phép tính cơ bản\n",
    "2. Lũy thừa\n",
    "3. Căn bậc 2\n",
    "4. Hàm lượng giác\n",
    "5. Logarit\n",
    "6. Giải phương trình bậc 1\n",
    "7. Giải phương trình bậc 2\n",
    "'''\n",
    "while True:\n",
    "    print(menu)\n",
    "    lua_chon = int(input(\"Nhập lựa chọn: \"))\n",
    "    match lua_chon:\n",
    "        case 0:\n",
    "            print(\"0. Thoát chương trình\")\n",
    "            break\n",
    "        case 1:\n",
    "            so_1 = float(input(\"Nhập số 1: \"))\n",
    "            so_2 = float(input(\"Nhập số 2: \"))\n",
    "\n",
    "            Tong = so_1 + so_2\n",
    "            Hieu = so_1 - so_2\n",
    "            Tich = so_1 * so_2\n",
    "            Thuong = so_1 / so_2 \n",
    "        \n",
    "            print(\"Thương của hai số\",(Thuong))  if so_2 != 0 else print(\"Không thể chia cho 0\")\n",
    "            print(\"Tổng của hai số:\",(Tong))\n",
    "            print(\"Hiệu của hai số:\",(Hieu))\n",
    "            print(\"Tích của hai số:\",(Tich))\n",
    "           \n",
    "        case 2:\n",
    "            x = float(input('Nhập cơ số x:'))\n",
    "            y = float(input('Nhập số mũ y:'))\n",
    "\n",
    "            ket_qua = x**y\n",
    "\n",
    "            print('Kết quả lũy thừa =',(ket_qua))\n",
    "        case 3:\n",
    "            import math\n",
    "            n = float(input('Nhập số cần tính căn bậc 2:'))\n",
    "\n",
    "            ket_qua = math.sqrt(n)\n",
    "\n",
    "            print('Kết quả căn bậc 2 =',(ket_qua))\n",
    "        case 4:\n",
    "            import math\n",
    "            goc_do = float(input('Nhập góc (độ):'))\n",
    "            goc_rad = math.radians(goc_do)\n",
    "\n",
    "            sin_value = math.sin(goc_rad)\n",
    "            cos_value = math.cos(goc_rad)\n",
    "            tan_value = math.tan(goc_rad)\n",
    "\n",
    "            print('Sin =',(sin_value))\n",
    "            print('Cos =',(cos_value))\n",
    "            print('Tan =',(tan_value))\n",
    "        case 5:\n",
    "            # Cơ số 10\n",
    "            import math\n",
    "            x = float(input('Nhập x để tính log10:'))\n",
    "            print('log10(x) =',math.log10(x))\n",
    "\n",
    "            # Cơ số e (ln)\n",
    "            import math\n",
    "            x = float(input('Nhập x để tính ln(x):'))\n",
    "            print('ln(x) =',math.log(x))\n",
    "\n",
    "            # Cơ số tùy chọn\n",
    "            import math\n",
    "            x = float(input('Nhập x để tính loga(x):'))\n",
    "            a = float(input('Nhập cơ số a:'))\n",
    "            print('loga(x) =',math.log(x, a))\n",
    "        case 6:\n",
    "            a = float(input(\"Nhập hệ số a:\"))\n",
    "            b = float(input(\"Nhập hệ số b:\"))\n",
    "            if a == 0:\n",
    "                if b == 0:\n",
    "                    print(\"Phương trình vô số nghiệm\")\n",
    "                else: #b khác không\n",
    "                    print(\"Phương trình vô nghiệm\")\n",
    "            else: #a khác không\n",
    "                x = -b/a\n",
    "                print(f\"Nghiệm của phương trình là {x}\")   \n",
    "        case 7:\n",
    "            import math\n",
    "            a = float(input(\"Nhập hệ số a:\"))\n",
    "            b = float(input(\"Nhập hệ số b:\"))\n",
    "            c = float(input(\"Nhập hệ số c:\"))\n",
    "\n",
    "            if a == 0: # Thành phương trình bậc nhất bx+c=0\n",
    "                if b == 0:\n",
    "                    if c == 0:\n",
    "                        print(\"Phương trình có vô số nghiệm\")\n",
    "                    else:\n",
    "                        print(\"Phương trình vô nghiệm\")\n",
    "                else:\n",
    "                    x = -c / b\n",
    "                    print(\"Phương trình có 1 nghiệm duy nhất: x =\", x)\n",
    "            else: # Tính delta\n",
    "                delta = b**2 - 4*a*c\n",
    "                if delta < 0:\n",
    "                    print(\"Phương trình vô nghiệm\")\n",
    "                elif delta == 0:\n",
    "                    x = -b / (2*a)\n",
    "                    print(\"Phương trình có nghiệm kép: x =\", x)\n",
    "                else:\n",
    "                    x1 = (-b + math.sqrt(delta)) / (2*a)\n",
    "                    x2 = (-b - math.sqrt(delta)) / (2*a)\n",
    "                    print(\"Phương trình có 2 nghiệm phân biệt:\")\n",
    "                    print(\"x1 =\", x1)\n",
    "                    print(\"x2 =\", x2)\n",
    "        case _:\n",
    "            print(\"Lựa chọn chưa đúng, vui lòng chọn lại\")\n",
    "       "
   ]
  },
  {
   "cell_type": "code",
   "execution_count": null,
   "id": "67cf01bc",
   "metadata": {},
   "outputs": [],
   "source": []
  }
 ],
 "metadata": {
  "kernelspec": {
   "display_name": "Python 3",
   "language": "python",
   "name": "python3"
  },
  "language_info": {
   "codemirror_mode": {
    "name": "ipython",
    "version": 3
   },
   "file_extension": ".py",
   "mimetype": "text/x-python",
   "name": "python",
   "nbconvert_exporter": "python",
   "pygments_lexer": "ipython3",
   "version": "3.13.7"
  }
 },
 "nbformat": 4,
 "nbformat_minor": 5
}
