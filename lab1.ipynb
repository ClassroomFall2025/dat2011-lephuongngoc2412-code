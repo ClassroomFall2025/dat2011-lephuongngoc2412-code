{
 "cells": [
  {
   "cell_type": "markdown",
   "id": "fdeff819",
   "metadata": {},
   "source": [
    "# Sinh Viên thực hiện Lab 1 ở Đây"
   ]
  },
  {
   "cell_type": "markdown",
   "id": "acc5d7dc",
   "metadata": {},
   "source": [
    "## Lab 1 - Bài 1"
   ]
  },
  {
   "cell_type": "code",
   "execution_count": 3,
   "id": "001e0507",
   "metadata": {},
   "outputs": [
    {
     "name": "stdout",
     "output_type": "stream",
     "text": [
      "Xin chào!\n",
      "Tôi tên là Lê Phương Ngọc.\n",
      "Tôi đến từ Hậu Giang.\n"
     ]
    }
   ],
   "source": [
    "# Code lab 1 bài 1 ở đây\n",
    "print(\"Xin chào!\")\n",
    "print(\"Tôi tên là Lê Phương Ngọc.\")\n",
    "print(\"Tôi đến từ Hậu Giang.\")"
   ]
  },
  {
   "cell_type": "markdown",
   "id": "c0835310",
   "metadata": {},
   "source": [
    "## Lab 1 - Bài 2"
   ]
  },
  {
   "cell_type": "code",
   "execution_count": 5,
   "id": "fa9cb39f",
   "metadata": {},
   "outputs": [
    {
     "name": "stdout",
     "output_type": "stream",
     "text": [
      "Chu vi hình chữ nhật là: 24.0\n",
      "Diện tích hình chữ nhật là: 35.0\n"
     ]
    }
   ],
   "source": [
    "# Code lab 1  bài 2 ở đây\n",
    "chieu_dai = float(input('Nhập cạnh đầu tiên:'))\n",
    "chieu_rong = float(input('Nhập cạnh tiếp theo:'))\n",
    "\n",
    "chu_vi = (chieu_dai + chieu_rong)*2\n",
    "dien_tich = (chieu_dai * chieu_rong)\n",
    "\n",
    "print('Chu vi hình chữ nhật là:', (chu_vi))\n",
    "print('Diện tích hình chữ nhật là:', (dien_tich))"
   ]
  },
  {
   "cell_type": "markdown",
   "id": "0f2483fe",
   "metadata": {},
   "source": [
    "## Lab 1 - Bài 3"
   ]
  },
  {
   "cell_type": "code",
   "execution_count": 7,
   "id": "7034990b",
   "metadata": {},
   "outputs": [
    {
     "name": "stdout",
     "output_type": "stream",
     "text": [
      "\"...\n",
      "Sống không giận, không hờn không oán trách\n",
      "Sống mỉm cười với thử thách chông gai\n",
      "Sống vươn lên, theo kịp ánh ban mai\n",
      "Sống chan hòa, với những người chung sống.\n",
      "\n",
      "Sống là động, nhưng lòng luôn bất động\n",
      "Sống là thương, nhưng lòng chẳng vấn vương\n",
      "Sống yên vui, danh lợi mãi coi thường\n",
      "Tâm bất biến giữa dòng đời vạn biến.\n",
      "...\"\n"
     ]
    }
   ],
   "source": [
    "# Code lab 1  bài 3 ở đây\n",
    "a = 'Sống'\n",
    "print('\"...')\n",
    "print(f'{a} không giận, không hờn không oán trách')\n",
    "print(f'{a} mỉm cười với thử thách chông gai')\n",
    "print(f'{a} vươn lên, theo kịp ánh ban mai')\n",
    "print(f'{a} chan hòa, với những người chung sống.')\n",
    "print()\n",
    "print(f'{a} là động, nhưng lòng luôn bất động')\n",
    "print(f'{a} là thương, nhưng lòng chẳng vấn vương')\n",
    "print(f'{a} yên vui, danh lợi mãi coi thường')\n",
    "print(f'Tâm bất biến giữa dòng đời vạn biến.')\n",
    "print('...\"')"
   ]
  },
  {
   "cell_type": "markdown",
   "id": "d36ea3d3",
   "metadata": {},
   "source": [
    "## Lab 1 - Bài 4"
   ]
  },
  {
   "cell_type": "code",
   "execution_count": 31,
   "id": "4c707ec1",
   "metadata": {},
   "outputs": [
    {
     "name": "stdout",
     "output_type": "stream",
     "text": [
      "Giá trị delta = 20.0\n",
      "Giá trị căn delta = 4.47213595499958\n"
     ]
    }
   ],
   "source": [
    "# code lab 1 bài 4 ở đây\n",
    "import math\n",
    "a = float(input('Nhập hệ số a:'))\n",
    "b = float(input('Nhập hệ số b:'))\n",
    "c = float(input('Nhập hệ số c:'))\n",
    "\n",
    "delta = ((b*b)-4*(a*c))\n",
    "sqrt_delta = math.sqrt(abs(delta))\n",
    "print('Giá trị delta =', delta)\n",
    "print('Giá trị căn delta =',sqrt_delta )\n"
   ]
  },
  {
   "cell_type": "markdown",
   "id": "e2b41d4a",
   "metadata": {},
   "source": [
    "## Lab 1 - Bài 5: bài tập làm thêm"
   ]
  },
  {
   "cell_type": "code",
   "execution_count": 39,
   "id": "0e0172f7",
   "metadata": {},
   "outputs": [
    {
     "name": "stdout",
     "output_type": "stream",
     "text": [
      "Tổng = 30.0\n",
      "Hiệu = 10.0\n",
      "Tích = 200.0\n",
      "Thương = 2.0\n",
      "Kết quả lũy thừa = 8.0\n",
      "Kết quả căn bậc 2 = 6.708203932499369\n",
      "Sin = 0.7071067811865476\n",
      "Cos = 0.7071067811865476\n",
      "Tan = 0.9999999999999999\n",
      "log10(x) = 0.9030899869919435\n",
      "ln(x) = 2.0794415416798357\n",
      "loga(x) = 3.0\n"
     ]
    }
   ],
   "source": [
    "# code lab 1  bài làm thêm ở đây \n",
    "# 1. Phép tính cơ bản: cộng trừ nhân chia\n",
    "\n",
    "so_1 = float(input('Nhập số 1:'))\n",
    "so_2 = float(input('Nhập số 2:'))\n",
    "\n",
    "Tong = so_1 + so_2\n",
    "Hieu = so_1 - so_2\n",
    "Tich = so_1 * so_2\n",
    "Thuong = so_1 / so_2\n",
    "\n",
    "print('Tổng =',(Tong))\n",
    "print('Hiệu =',(Hieu))\n",
    "print('Tích =',(Tich))\n",
    "print('Thương =',(Thuong))\n",
    "\n",
    "# 2. Lũy thừa x^y\n",
    "\n",
    "x = float(input('Nhập cơ số x:'))\n",
    "y = float(input('Nhập số mũ y:'))\n",
    "\n",
    "Ket_qua = x**y\n",
    "\n",
    "print('Kết quả lũy thừa =',(Ket_qua))\n",
    "\n",
    "# 3. Căn bậc 2\n",
    "\n",
    "import math\n",
    "n = float(input('Nhập số cần tính căn bậc 2:'))\n",
    "\n",
    "Ket_qua = math.sqrt(n)\n",
    "\n",
    "print('Kết quả căn bậc 2 =',(Ket_qua))\n",
    "\n",
    "# 4. Hàm lượng giác Sin Cos Tan\n",
    "\n",
    "import math\n",
    "goc_do = float(input('Nhập góc (độ):'))\n",
    "\n",
    "# Đổi độ sang radian\n",
    "goc_rad = math.radians(goc_do)\n",
    "\n",
    "sin_value = math.sin(goc_rad)\n",
    "cos_value = math.cos(goc_rad)\n",
    "tan_value = math.tan(goc_rad)\n",
    "\n",
    "print('Sin =',(sin_value))\n",
    "print('Cos =',(cos_value))\n",
    "print('Tan =',(tan_value))\n",
    "\n",
    "# 5. Logarit\n",
    "# Cơ số 10\n",
    "import math\n",
    "x = float(input('Nhập x:'))\n",
    "print('log10(x) =',math.log10(x))\n",
    "\n",
    "# Cơ số e (ln)\n",
    "import math\n",
    "x = float(input('Nhập x:'))\n",
    "print('ln(x) =',math.log(x))\n",
    "\n",
    "# Cơ số tùy chọn\n",
    "import math\n",
    "x = float(input('Nhập x:'))\n",
    "a = float(input('Nhập cơ số a:'))\n",
    "print('loga(x) =',math.log(x, a))\n",
    "\n",
    "\n"
   ]
  }
 ],
 "metadata": {
  "kernelspec": {
   "display_name": "Python 3",
   "language": "python",
   "name": "python3"
  },
  "language_info": {
   "codemirror_mode": {
    "name": "ipython",
    "version": 3
   },
   "file_extension": ".py",
   "mimetype": "text/x-python",
   "name": "python",
   "nbconvert_exporter": "python",
   "pygments_lexer": "ipython3",
   "version": "3.13.7"
  }
 },
 "nbformat": 4,
 "nbformat_minor": 5
}
