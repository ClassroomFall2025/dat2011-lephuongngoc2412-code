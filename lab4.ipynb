{
 "cells": [
  {
   "cell_type": "markdown",
   "id": "fdeff819",
   "metadata": {},
   "source": [
    "# Sinh Viên thực hiện Lab 4 ở Đây"
   ]
  },
  {
   "cell_type": "markdown",
   "id": "acc5d7dc",
   "metadata": {},
   "source": [
    "## Lab 1 - Bài 1"
   ]
  },
  {
   "cell_type": "code",
   "execution_count": null,
   "id": "001e0507",
   "metadata": {},
   "outputs": [
    {
     "name": "stdout",
     "output_type": "stream",
     "text": [
      "Tổng tiền nước là: 163000 VND\n"
     ]
    }
   ],
   "source": [
    "# Code lab 4 bài 1 ở đây\n",
    "import lab4\n",
    "import math\n",
    "print(f\"Tổng tiền nước là: {lab4.tinh_tien_nuoc(20)} VND\")"
   ]
  },
  {
   "cell_type": "markdown",
   "id": "c0835310",
   "metadata": {},
   "source": [
    "## Lab 4 - Bài 2"
   ]
  },
  {
   "cell_type": "code",
   "execution_count": null,
   "id": "fa9cb39f",
   "metadata": {},
   "outputs": [
    {
     "name": "stdout",
     "output_type": "stream",
     "text": [
      "{'Đường': 4.22, 'Đậu': 1.85}\n"
     ]
    }
   ],
   "source": [
    "# Code lab 4  bài 2 ở đây\n",
    "import lab4\n",
    "print(lab4.tinh_nguyen_lieu(15,27,40))"
   ]
  },
  {
   "cell_type": "markdown",
   "id": "0f2483fe",
   "metadata": {},
   "source": [
    "## Lab 4 - Bài 3"
   ]
  },
  {
   "cell_type": "code",
   "execution_count": null,
   "id": "7034990b",
   "metadata": {},
   "outputs": [
    {
     "name": "stdout",
     "output_type": "stream",
     "text": [
      "[6]\n",
      "[2]\n",
      "[]\n",
      "[]\n",
      "[]\n",
      "[10]\n"
     ]
    }
   ],
   "source": [
    "# Code lab 4  bài 3 ở đây\n",
    "number = [] \n",
    "while True: \n",
    "    number = input(\"Nhập số: \") \n",
    "    if number == 'a': \n",
    "        break \n",
    "    # chuyển đổi số nguyên\n",
    "    gan = map(int, number.split())\n",
    "    my_list = list(filter(lambda x: x % 2 == 0, gan)) \n",
    "    print(my_list)\n"
   ]
  },
  {
   "cell_type": "markdown",
   "id": "d36ea3d3",
   "metadata": {},
   "source": [
    "## Lab 4 - Bài 4"
   ]
  },
  {
   "cell_type": "code",
   "execution_count": 22,
   "id": "4c707ec1",
   "metadata": {},
   "outputs": [
    {
     "name": "stdout",
     "output_type": "stream",
     "text": [
      "+-------------MENU--------------+\n",
      "1. Tính tiền nước sinh hoạt \n",
      "2. Tính nguyên liệu làm bánh\n",
      "3. Kết thúc \n",
      "+-------------------------------+\n",
      "None\n",
      "Kết thúc chương trình\n"
     ]
    }
   ],
   "source": [
    "# code lab 4 bài 4 ở đây\n",
    "def menu():\n",
    "    print('+-------------MENU--------------+') \n",
    "    print('1. Tính tiền nước sinh hoạt ') \n",
    "    print('2. Tính nguyên liệu làm bánh')\n",
    "    print('3. Kết thúc ') \n",
    "    print('+-------------------------------+') \n",
    "print(menu())\n",
    "lua_chon = int(input(\"Vui lòng chọn chức năng:\"))\n",
    "import lab4\n",
    "if lua_chon == 1:\n",
    "    so_nuoc = int(input(\"Nhập số lượng nước:\"))\n",
    "    print(f\"Tổng tiền nước là: {lab4.tinh_tien_nuoc(so_nuoc)} VND\")\n",
    "elif lua_chon == 2:\n",
    "    sl_bdx = int(input(\"Nhập số lượng bánh đậu xanh: \"))\n",
    "    sl_btc = int(input(\"Nhập số lượng bánh thập cẩm: \"))\n",
    "    sl_bd = int(input(\"Nhập số lượng bánh dẻo: \"))\n",
    "    print(lab4.tinh_nguyen_lieu(sl_bdx, sl_btc, sl_bd))\n",
    "elif lua_chon == 3:\n",
    "    print(\"Kết thúc chương trình\")\n",
    "else:\n",
    "    print(\"Lựa chọn không hợp lệ. Vui lòng chọn lại\")\n",
    "\n",
    "\n"
   ]
  },
  {
   "cell_type": "markdown",
   "id": "e2b41d4a",
   "metadata": {},
   "source": [
    "## Lab 4 - Bài 5: bài tập làm thêm"
   ]
  },
  {
   "cell_type": "code",
   "execution_count": null,
   "id": "0e0172f7",
   "metadata": {},
   "outputs": [],
   "source": [
    "# code lab 4  bài làm thêm ở đây "
   ]
  }
 ],
 "metadata": {
  "kernelspec": {
   "display_name": "Python 3",
   "language": "python",
   "name": "python3"
  },
  "language_info": {
   "codemirror_mode": {
    "name": "ipython",
    "version": 3
   },
   "file_extension": ".py",
   "mimetype": "text/x-python",
   "name": "python",
   "nbconvert_exporter": "python",
   "pygments_lexer": "ipython3",
   "version": "3.13.7"
  }
 },
 "nbformat": 4,
 "nbformat_minor": 5
}
