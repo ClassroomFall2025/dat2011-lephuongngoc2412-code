{
 "cells": [
  {
   "cell_type": "markdown",
   "id": "fdeff819",
   "metadata": {},
   "source": [
    "# Sinh Viên thực hiện Lab 2 ở Đây"
   ]
  },
  {
   "cell_type": "markdown",
   "id": "acc5d7dc",
   "metadata": {},
   "source": [
    "## Lab 2 - Bài 1"
   ]
  },
  {
   "cell_type": "code",
   "execution_count": 16,
   "id": "001e0507",
   "metadata": {},
   "outputs": [
    {
     "name": "stdout",
     "output_type": "stream",
     "text": [
      "Từ \"con người\" có trong chuỗi\n",
      "Từ được trích ra: con người\n",
      "Chữ hoa: CON NGƯỜI\n"
     ]
    }
   ],
   "source": [
    "# Code lab 2 bài 1 ở đây\n",
    "poem = \"\"\"Kiếp con người mong manh như là gió\n",
    "Sống trên đời có được mấy lần vui\n",
    "Sao phải đau mà không thể mỉm cười\n",
    "Gắng buông nỗi ngậm ngùi nơi quá khứ\n",
    "\n",
    "Nếu có thể sao ta không làm thử\n",
    "Để tâm hồn khắc hai chữ bình an\n",
    "Cho đôi chân bước thanh thản nhẹ nhàng\n",
    "Dù hướng đời có muôn ngàn đá sỏi\"\"\"\n",
    "# Kiểm tra từ “con người” có trong chuỗi hay không? Xuất kết quả kiểm tra ra  màn hình\n",
    "if \"con người\":\n",
    "    print('Từ \"con người\" có trong chuỗi')\n",
    "else: \n",
    "    print('Từ \"con người\" không có trong chuỗi')\n",
    "# Sử dụng cú pháp trích ra 1 phần của chuỗi để lấy từ “con người” trong câu  đầu tiên\n",
    "cau_dau = \"Kiếp con người mong manh như là gió\"\n",
    "tu = cau_dau[5:14]\n",
    "print(\"Từ được trích ra:\",tu)\n",
    "# Chuyển từ “con người” thành chữ hoa và xuất ra màn hình \n",
    "print(\"Chữ hoa:\", tu.upper())\n",
    "      "
   ]
  },
  {
   "cell_type": "markdown",
   "id": "c0835310",
   "metadata": {},
   "source": [
    "## Lab 2 - Bài 2"
   ]
  },
  {
   "cell_type": "code",
   "execution_count": 18,
   "id": "fa9cb39f",
   "metadata": {},
   "outputs": [
    {
     "name": "stdout",
     "output_type": "stream",
     "text": [
      "\"...Kiếp con người mong manh như là gió\n",
      "Sống trên đời có được mấy lần vui\n",
      "Sao phải đau mà không thể mỉm cười\n",
      "Gắng buông nỗi ngậm ngùi nơi quá khứ\n",
      "\n",
      "Nếu có thể sao ta không làm thử\n",
      "Để tâm hồn khắc hai chữ hạnh phúc\n",
      "Cho đôi chân bước thanh thản nhẹ nhàng\n",
      "Dù hướng đời có muôn ngàn đá sỏi...\"\n"
     ]
    }
   ],
   "source": [
    "# Code lab 2  bài 2 ở đây\n",
    "poem = \"\"\"Kiếp con người mong manh như là gió\n",
    "Sống trên đời có được mấy lần vui\n",
    "Sao phải đau mà không thể mỉm cười\n",
    "Gắng buông nỗi ngậm ngùi nơi quá khứ\n",
    "\n",
    "Nếu có thể sao ta không làm thử\n",
    "Để tâm hồn khắc hai chữ bình an\n",
    "Cho đôi chân bước thanh thản nhẹ nhàng\n",
    "Dù hướng đời có muôn ngàn đá sỏi\"\"\"\n",
    "# Thay thế từ “bình an” bằng từ “hạnh phúc”.\n",
    "poem2 = poem.replace('bình an', 'hạnh phúc') \n",
    "# Ghép thêm cụm ký tự“...vào đầu bài thơ và...”vào cuối bài thơ \n",
    "modified_text = '\"...' + poem2 + '...\"'\n",
    "# Xuất bài thơ đã được thay thế từ ra màn hình.\n",
    "print(modified_text)"
   ]
  },
  {
   "cell_type": "markdown",
   "id": "0f2483fe",
   "metadata": {},
   "source": [
    "## Lab 2 - Bài 3"
   ]
  },
  {
   "cell_type": "code",
   "execution_count": null,
   "id": "7034990b",
   "metadata": {},
   "outputs": [
    {
     "name": "stdout",
     "output_type": "stream",
     "text": [
      "Nghiệm của phương trình là -1.5\n"
     ]
    }
   ],
   "source": [
    "# Code lab 2  bài 3 ở đây\n",
    "a = float(input(\"Nhập hệ số a:\"))\n",
    "b = float(input(\"Nhập hệ số b:\"))\n",
    "if a == 0:\n",
    "    if b == 0:\n",
    "        print(\"Phương trình vô số nghiệm\")\n",
    "    else: #b khác không\n",
    "        print(\"Phương trình vô nghiệm\")\n",
    "else: #a khác không\n",
    "    x = -b/a\n",
    "    print(f\"Nghiệm của phương trình là {x}\")\n"
   ]
  },
  {
   "cell_type": "markdown",
   "id": "d36ea3d3",
   "metadata": {},
   "source": [
    "## Lab 2 - Bài 4"
   ]
  },
  {
   "cell_type": "code",
   "execution_count": 30,
   "id": "4c707ec1",
   "metadata": {},
   "outputs": [
    {
     "name": "stdout",
     "output_type": "stream",
     "text": [
      "Phương trình vô nghiệm\n"
     ]
    }
   ],
   "source": [
    "# code lab 2 bài 4 ở đây\n",
    "import math\n",
    "a = float(input(\"Nhập hệ số a:\"))\n",
    "b = float(input(\"Nhập hệ số b:\"))\n",
    "c = float(input(\"Nhập hệ số c:\"))\n",
    "\n",
    "if a == 0: # Thành phương trình bậc nhất bx+c=0\n",
    "    if b == 0:\n",
    "        if c == 0:\n",
    "            print(\"Phương trình có vô số nghiệm\")\n",
    "        else:\n",
    "            print(\"Phương trình vô nghiệm\")\n",
    "    else:\n",
    "        x = -c / b\n",
    "        print(\"Phương trình có 1 nghiệm duy nhất: x =\", x)\n",
    "else: # Tính delta\n",
    "    delta = b**2 - 4*a*c\n",
    "    if delta < 0:\n",
    "        print(\"Phương trình vô nghiệm\")\n",
    "    elif delta == 0:\n",
    "        x = -b / (2*a)\n",
    "        print(\"Phương trình có nghiệm kép: x =\", x)\n",
    "    else:\n",
    "        x1 = (-b + math.sqrt(delta)) / (2*a)\n",
    "        x2 = (-b - math.sqrt(delta)) / (2*a)\n",
    "        print(\"Phương trình có 2 nghiệm phân biệt:\")\n",
    "        print(\"x1 =\", x1)\n",
    "        print(\"x2 =\", x2)\n",
    "\n"
   ]
  },
  {
   "cell_type": "markdown",
   "id": "e2b41d4a",
   "metadata": {},
   "source": [
    "## Lab 2 - Bài 5: bài tập làm thêm"
   ]
  },
  {
   "cell_type": "code",
   "execution_count": null,
   "id": "0e0172f7",
   "metadata": {},
   "outputs": [
    {
     "name": "stdout",
     "output_type": "stream",
     "text": [
      "Thương của hai 4.0 / 2.0 = 2.0\n",
      "Số lớn nhất = 6.0\n"
     ]
    }
   ],
   "source": [
    "# code lab 2  bài làm thêm ở đây \n",
    "so1 = float(input(\"Nhập số thứ nhất:\"))\n",
    "so2 = float(input(\"Nhập số thứ hai:\"))\n",
    "toantu = input(\"Nhập phép toán cần tính:+,-,*,/\")\n",
    "if toantu == \"+\":\n",
    "    ket_qua = so1 + so2\n",
    "    print(f\"Tổng của hai số {so1} + {so2} = {ket_qua}\")\n",
    "elif toantu == \"-\":\n",
    "    ket_qua = so1 - so2\n",
    "    print(f\"Hiệu của hai số {so1} - {so2} = {ket_qua}\")\n",
    "elif toantu == \"*\":\n",
    "    ket_qua = so1 * so2\n",
    "    print(f\"Tích của hai số {so1} * {so2} = {ket_qua}\")\n",
    "elif toantu == \"/\":\n",
    "    if so2 != 0:\n",
    "        ket_qua = so1 / so2\n",
    "        print(f\"Thương của hai số {so1} / {so2} = {ket_qua}\")\n",
    "    else:\n",
    "        print(\"Không thể chia cho 0\")\n",
    "else:\n",
    "    print(\"Toán tử không hợp lệ\")\n",
    "\n",
    "# Tìm số lớn nhất trong 3 số a,b,c\n",
    "so1 = float(input(\"Nhập số 1:\"))\n",
    "so2 = float(input(\"Nhập số 2:\"))\n",
    "so3 = float(input(\"Nhập số 3:\"))\n",
    "max = so1 if so1 > so2 else so2\n",
    "max = max if max > so3 else so3 \n",
    "print(f\"Số lớn nhất = {max}\")\n",
    "\n",
    "\n"
   ]
  }
 ],
 "metadata": {
  "kernelspec": {
   "display_name": "Python 3",
   "language": "python",
   "name": "python3"
  },
  "language_info": {
   "codemirror_mode": {
    "name": "ipython",
    "version": 3
   },
   "file_extension": ".py",
   "mimetype": "text/x-python",
   "name": "python",
   "nbconvert_exporter": "python",
   "pygments_lexer": "ipython3",
   "version": "3.13.7"
  }
 },
 "nbformat": 4,
 "nbformat_minor": 5
}
