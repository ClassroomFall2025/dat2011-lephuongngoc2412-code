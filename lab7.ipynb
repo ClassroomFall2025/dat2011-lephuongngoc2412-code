{
 "cells": [
  {
   "cell_type": "markdown",
   "id": "fdeff819",
   "metadata": {},
   "source": [
    "# Sinh Viên thực hiện Lab 7 ở Đây"
   ]
  },
  {
   "cell_type": "markdown",
   "id": "acc5d7dc",
   "metadata": {},
   "source": [
    "## Lab 7 - Bài 1"
   ]
  },
  {
   "cell_type": "code",
   "execution_count": 16,
   "id": "001e0507",
   "metadata": {},
   "outputs": [
    {
     "name": "stdout",
     "output_type": "stream",
     "text": [
      "Tự nguyện\n",
      "Trương Quốc Khánh\n",
      "Nếu là chim, tôi sẽ là loài bồ câu trắng\n",
      "Nếu là hoa, tôi sẽ là một đóa hướng dương\n",
      "Nếu là mây, tôi sẽ là một vầng mây ấm\n",
      "Là người, tôi sẽ chết cho quê hương.\n",
      "\n",
      "Là chim, tôi sẽ cất cao đôi cánh mềm\n",
      "Từ nam ra ngoài bắc báo tin nối liền\n",
      "Là hoa, tôi nở tình yêu ban sớm\n",
      "Cùng muôn trái tim ngất ngây hoà bình.\n",
      "\n",
      "Là mây, theo làn gió tung bay khắp trời\n",
      "Nghìn xưa oai hùng đó tôi xin tiếp lời\n",
      "Là người, xin một lần khi nằm xuống\n",
      "Nhìn anh em đứng lên phất cao ngọn cờ.\n",
      "Tự nguyện\n",
      "\n",
      "Trương Quốc Khánh\n",
      "\n"
     ]
    }
   ],
   "source": [
    "# Code lab 7 bài 1 ở đây\n",
    "file = open(\"DAT2011 - Lab 7 - Resource.txt\", \"r\", encoding=\"utf-8\")\n",
    "noidung = file.read()\n",
    "print(noidung)\n",
    "with open(\"DAT2011 - Lab 7 - Resource.txt\",\"r\", encoding=\"utf-8\") as file:\n",
    "    dong = file.readlines()\n",
    "    print(dong[0])\n",
    "    print(dong[1])"
   ]
  },
  {
   "cell_type": "markdown",
   "id": "c0835310",
   "metadata": {},
   "source": [
    "## Lab 7 - Bài 2"
   ]
  },
  {
   "cell_type": "code",
   "execution_count": 14,
   "id": "fa9cb39f",
   "metadata": {},
   "outputs": [
    {
     "name": "stdout",
     "output_type": "stream",
     "text": [
      "Nội dung đã được ghi vào file 'Lab7 - Exercise2.txt'\n"
     ]
    }
   ],
   "source": [
    "# Code lab 7  bài 2 ở đây\n",
    "poem = ''' \"...\n",
    "Nếu một mai tôi có bay lên trời\n",
    "Thì người ơi tôi đã sống rất thảnh thơi\n",
    "Nếu một mai tôi có đi qua đời\n",
    "Thì người ơi tôi đã sống rất tuyệt vời\n",
    "...\" '''\n",
    "with open(\"Lab7 - Exercise2.txt\", \"w\", encoding=\"utf-8\") as f:\n",
    "    f.write(poem.strip())\n",
    "print(\"Nội dung đã được ghi vào file 'Lab7 - Exercise2.txt'\")"
   ]
  },
  {
   "cell_type": "markdown",
   "id": "0f2483fe",
   "metadata": {},
   "source": [
    "## Lab 7 - Bài 3"
   ]
  },
  {
   "cell_type": "code",
   "execution_count": 11,
   "id": "7034990b",
   "metadata": {},
   "outputs": [
    {
     "name": "stdout",
     "output_type": "stream",
     "text": [
      "\n",
      "--- Bài thơ thứ 1 ---\n",
      "\n",
      "--- Bài thơ thứ 2 ---\n",
      "\n",
      "--- Bài thơ thứ 3 ---\n",
      "\n",
      "--- Bài thơ thứ 4 ---\n",
      "\n",
      "--- Bài thơ thứ 5 ---\n",
      "\n",
      " Đã lưu thông tin 5 bài thơ vào file 'baitho.csv' thành công!\n"
     ]
    }
   ],
   "source": [
    "# Code lab 7  bài 3 ở đây\n",
    "# Nhập tên file CSV\n",
    "filename = input(\"Nhập tên file .csv: \")\n",
    "\n",
    "# Mở file ở chế độ ghi (w = ghi mới)\n",
    "with open(filename, \"w\", encoding=\"utf-8\") as f:\n",
    "     # Ghi dòng tiêu đề (header)\n",
    "    f.write(\"Tiêu đề, Tác giả, Năm sáng tác\\n\")\n",
    "\n",
    "     # Ghi từng bài thơ\n",
    "    for i in range(5):\n",
    "        print(f\"\\n--- Bài thơ thứ {i+1} ---\")\n",
    "        tieude = input(\"Tiêu đề: \")\n",
    "        tacgia = input(\"Tác giả: \")\n",
    "        namsangtac = input(\"Năm sáng tác: \")\n",
    "        \n",
    "        # Ghi một dòng vào file bằng f-string\n",
    "        line = f\"{tieude},{tacgia},{namsangtac}\\n\"\n",
    "        f.write(line)\n",
    "\n",
    "print(f\"\\n Đã lưu thông tin {5} bài thơ vào file '{filename}' thành công!\")"
   ]
  },
  {
   "cell_type": "markdown",
   "id": "d36ea3d3",
   "metadata": {},
   "source": [
    "## Lab 7 - Bài 4"
   ]
  },
  {
   "cell_type": "code",
   "execution_count": 4,
   "id": "4c707ec1",
   "metadata": {},
   "outputs": [],
   "source": [
    "# code lab 7 bài 4 ở đây\n",
    "import os\n",
    "INPUT_FILE = \"DAT2011 - Lab 7 - Resource.txt\"\n",
    "OUTPUT_FILE = \"baitho.xml\"\n",
    "\n",
    "def create_xml_from_text(input_file, output_file):\n",
    "    try:\n",
    "        with open(input_file, 'r', encoding='utf-8') as f:\n",
    "            lines = [line.strip() for line in f if line.strip()]\n",
    "    except FileNotFoundError:\n",
    "        print(f\"Lỗi: Không tìm thấy file {input_file}\")\n",
    "        return\n",
    "    except Exception as e:\n",
    "        print(f\"Lỗi khi đọc file: {e}\")\n",
    "        return\n",
    "\n",
    "    if len(lines) < 2:\n",
    "        print(\"Lỗi: File không đủ nội dung (cần ít nhất 2 dòng: Tên bài thơ và Tên tác giả)\")\n",
    "        return\n",
    "\n",
    "    title = lines[0]    \n",
    "    author = lines[1]   \n",
    "    \n",
    "    try:\n",
    "        with open(input_file, 'r', encoding='utf-8') as f:\n",
    "            full_content = f.read()\n",
    "    except Exception as e:\n",
    "        print(f\"Lỗi khi đọc lại nội dung: {e}\")\n",
    "        return\n",
    "        \n",
    "    sections_raw = [s.strip() for s in full_content.split('\\n\\n') if s.strip()]\n",
    "    \n",
    "    if not sections_raw:\n",
    "        print(\"Lỗi: Không tìm thấy nội dung bài thơ.\")\n",
    "        return\n",
    "\n",
    "    title = sections_raw[0].split('\\n')[0].strip()\n",
    "    author = sections_raw[0].split('\\n')[1].strip()\n",
    "    \n",
    "    all_sections = []\n",
    "    \n",
    "    raw_lines = full_content.split('\\n')\n",
    "    \n",
    "    title = raw_lines[0].strip()\n",
    "    \n",
    "    author = raw_lines[1].strip()\n",
    "    \n",
    "    current_section = \"\"\n",
    "    sections = []\n",
    "    \n",
    "    for line in raw_lines[2:]:\n",
    "        stripped_line = line.strip()\n",
    "        if not stripped_line: \n",
    "            if current_section:\n",
    "                sections.append(current_section.strip())\n",
    "            current_section = \"\"\n",
    "        else: \n",
    "            current_section += stripped_line + \" \" \n",
    "        \n",
    "    if current_section.strip():\n",
    "        sections.append(current_section.strip())\n",
    "        \n",
    "    if not sections:\n",
    "        print(\"Cảnh báo: Không tìm thấy khổ thơ nào.\")\n",
    "\n",
    "    xml_content = '<?xml version=\"1.0\" encoding=\"UTF-8\"?>\\n'\n",
    "    xml_content += '<songs>\\n'\n",
    "    xml_content += f'    <song>\\n'\n",
    "    xml_content += f'        <title>{title}</title>\\n'\n",
    "    xml_content += f'        <author>{author}</author>\\n'\n",
    "    \n",
    "    for section in sections:\n",
    "        section_safe = section.replace('&', '&amp;').replace('<', '&lt;').replace('>', '&gt;')\n",
    "        xml_content += f'        <section>{section_safe}</section>\\n'\n",
    "        \n",
    "    xml_content += '    </song>\\n'\n",
    "    xml_content += '</songs>'\n",
    "\n",
    "    try:\n",
    "        with open(output_file, 'w', encoding='utf-8') as f:\n",
    "            f.write(xml_content)\n",
    "        print(f\"Đã tạo file XML thành công tại: {os.path.abspath(output_file)}\")\n",
    "    except Exception as e:\n",
    "        print(f\"Lỗi khi ghi file XML: {e}\")\n",
    "\n"
   ]
  },
  {
   "cell_type": "markdown",
   "id": "e2b41d4a",
   "metadata": {},
   "source": [
    "## Lab 7 - Bài 5: bài tập làm thêm"
   ]
  },
  {
   "cell_type": "code",
   "execution_count": null,
   "id": "0e0172f7",
   "metadata": {},
   "outputs": [],
   "source": [
    "# code lab 7  bài làm thêm ở đây "
   ]
  }
 ],
 "metadata": {
  "kernelspec": {
   "display_name": "Python 3",
   "language": "python",
   "name": "python3"
  },
  "language_info": {
   "codemirror_mode": {
    "name": "ipython",
    "version": 3
   },
   "file_extension": ".py",
   "mimetype": "text/x-python",
   "name": "python",
   "nbconvert_exporter": "python",
   "pygments_lexer": "ipython3",
   "version": "3.13.7"
  }
 },
 "nbformat": 4,
 "nbformat_minor": 5
}
