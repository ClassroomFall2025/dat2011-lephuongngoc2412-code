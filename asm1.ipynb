{
 "cells": [
  {
   "cell_type": "code",
   "execution_count": 1,
   "id": "8bd5b6c1",
   "metadata": {},
   "outputs": [
    {
     "name": "stdout",
     "output_type": "stream",
     "text": [
      "\n",
      "======================== MENU =============================\n",
      "1. Nhập danh sách nhân viên từ bàn phím\n",
      "2. Đọc thông tin nhân viên và xuất danh sách nhân viên ra màn hình\n",
      "3. Tìm và hiển thị nhân viên theo mã\n",
      "4. Xóa nhân viên theo mã nhập từ bàn phím và cập nhật dữ liệu\n",
      "5. Cập nhật thông tin nhân viên theo mã nhập từ bàn phím và ghi thay đổi vào file\n",
      "6. Tìm các nhân viên theo khoảng lương nhập từ bàn phím\n",
      "7. Sắp xếp danh sách nhân viên theo họ và tên\n",
      "8. Sắp xếp danh sách nhân viên theo thu nhập\n",
      "9. Xuất 5 nhân viên có thu nhập cao nhất công ty\n",
      "0. Thoát chương trình\n",
      "=============================================================\n",
      " Cập nhật thông tin nhân viên...\n",
      "\n",
      "======================== MENU =============================\n",
      "1. Nhập danh sách nhân viên từ bàn phím\n",
      "2. Đọc thông tin nhân viên và xuất danh sách nhân viên ra màn hình\n",
      "3. Tìm và hiển thị nhân viên theo mã\n",
      "4. Xóa nhân viên theo mã nhập từ bàn phím và cập nhật dữ liệu\n",
      "5. Cập nhật thông tin nhân viên theo mã nhập từ bàn phím và ghi thay đổi vào file\n",
      "6. Tìm các nhân viên theo khoảng lương nhập từ bàn phím\n",
      "7. Sắp xếp danh sách nhân viên theo họ và tên\n",
      "8. Sắp xếp danh sách nhân viên theo thu nhập\n",
      "9. Xuất 5 nhân viên có thu nhập cao nhất công ty\n",
      "0. Thoát chương trình\n",
      "=============================================================\n",
      " Xuất 5 nhân viên có thu nhập cao nhất...\n",
      "\n",
      "======================== MENU =============================\n",
      "1. Nhập danh sách nhân viên từ bàn phím\n",
      "2. Đọc thông tin nhân viên và xuất danh sách nhân viên ra màn hình\n",
      "3. Tìm và hiển thị nhân viên theo mã\n",
      "4. Xóa nhân viên theo mã nhập từ bàn phím và cập nhật dữ liệu\n",
      "5. Cập nhật thông tin nhân viên theo mã nhập từ bàn phím và ghi thay đổi vào file\n",
      "6. Tìm các nhân viên theo khoảng lương nhập từ bàn phím\n",
      "7. Sắp xếp danh sách nhân viên theo họ và tên\n",
      "8. Sắp xếp danh sách nhân viên theo thu nhập\n",
      "9. Xuất 5 nhân viên có thu nhập cao nhất công ty\n",
      "0. Thoát chương trình\n",
      "=============================================================\n",
      "Đã thoát chương trình\n",
      "\n",
      "======================== MENU =============================\n",
      "1. Nhập danh sách nhân viên từ bàn phím\n",
      "2. Đọc thông tin nhân viên và xuất danh sách nhân viên ra màn hình\n",
      "3. Tìm và hiển thị nhân viên theo mã\n",
      "4. Xóa nhân viên theo mã nhập từ bàn phím và cập nhật dữ liệu\n",
      "5. Cập nhật thông tin nhân viên theo mã nhập từ bàn phím và ghi thay đổi vào file\n",
      "6. Tìm các nhân viên theo khoảng lương nhập từ bàn phím\n",
      "7. Sắp xếp danh sách nhân viên theo họ và tên\n",
      "8. Sắp xếp danh sách nhân viên theo thu nhập\n",
      "9. Xuất 5 nhân viên có thu nhập cao nhất công ty\n",
      "0. Thoát chương trình\n",
      "=============================================================\n",
      "Đã thoát chương trình\n"
     ]
    }
   ],
   "source": [
    "# ASSIGNMENT GIAI ĐOẠN 1\n",
    "import asm1\n",
    "asm1.menu()"
   ]
  },
  {
   "cell_type": "code",
   "execution_count": null,
   "id": "ee1beeae",
   "metadata": {},
   "outputs": [],
   "source": []
  }
 ],
 "metadata": {
  "kernelspec": {
   "display_name": "Python 3",
   "language": "python",
   "name": "python3"
  },
  "language_info": {
   "codemirror_mode": {
    "name": "ipython",
    "version": 3
   },
   "file_extension": ".py",
   "mimetype": "text/x-python",
   "name": "python",
   "nbconvert_exporter": "python",
   "pygments_lexer": "ipython3",
   "version": "3.13.7"
  }
 },
 "nbformat": 4,
 "nbformat_minor": 5
}
